{
 "cells": [
  {
   "cell_type": "markdown",
   "id": "fea5a6fd",
   "metadata": {},
   "source": [
    "# Import Libraries"
   ]
  },
  {
   "cell_type": "code",
   "execution_count": 1,
   "id": "7cc524ab",
   "metadata": {},
   "outputs": [],
   "source": [
    "import pandas as pd\n",
    "import numpy as np"
   ]
  },
  {
   "cell_type": "markdown",
   "id": "7566636c",
   "metadata": {},
   "source": [
    "# Import Dataset"
   ]
  },
  {
   "cell_type": "code",
   "execution_count": 2,
   "id": "7dfb835d",
   "metadata": {},
   "outputs": [
    {
     "data": {
      "text/html": [
       "<div>\n",
       "<style scoped>\n",
       "    .dataframe tbody tr th:only-of-type {\n",
       "        vertical-align: middle;\n",
       "    }\n",
       "\n",
       "    .dataframe tbody tr th {\n",
       "        vertical-align: top;\n",
       "    }\n",
       "\n",
       "    .dataframe thead th {\n",
       "        text-align: right;\n",
       "    }\n",
       "</style>\n",
       "<table border=\"1\" class=\"dataframe\">\n",
       "  <thead>\n",
       "    <tr style=\"text-align: right;\">\n",
       "      <th></th>\n",
       "      <th>Marketing Spend</th>\n",
       "      <th>Administration</th>\n",
       "      <th>Transport</th>\n",
       "      <th>Area</th>\n",
       "      <th>Profit</th>\n",
       "    </tr>\n",
       "  </thead>\n",
       "  <tbody>\n",
       "    <tr>\n",
       "      <th>0</th>\n",
       "      <td>114523.61</td>\n",
       "      <td>136897.80</td>\n",
       "      <td>471784.10</td>\n",
       "      <td>Dhaka</td>\n",
       "      <td>192261.83</td>\n",
       "    </tr>\n",
       "    <tr>\n",
       "      <th>1</th>\n",
       "      <td>162597.70</td>\n",
       "      <td>151377.59</td>\n",
       "      <td>443898.53</td>\n",
       "      <td>Ctg</td>\n",
       "      <td>191792.06</td>\n",
       "    </tr>\n",
       "    <tr>\n",
       "      <th>2</th>\n",
       "      <td>153441.51</td>\n",
       "      <td>101145.55</td>\n",
       "      <td>407934.54</td>\n",
       "      <td>Rangpur</td>\n",
       "      <td>191050.39</td>\n",
       "    </tr>\n",
       "    <tr>\n",
       "      <th>3</th>\n",
       "      <td>144372.41</td>\n",
       "      <td>118671.85</td>\n",
       "      <td>383199.62</td>\n",
       "      <td>Dhaka</td>\n",
       "      <td>182901.99</td>\n",
       "    </tr>\n",
       "    <tr>\n",
       "      <th>4</th>\n",
       "      <td>142107.34</td>\n",
       "      <td>91391.77</td>\n",
       "      <td>366168.42</td>\n",
       "      <td>Rangpur</td>\n",
       "      <td>166187.94</td>\n",
       "    </tr>\n",
       "  </tbody>\n",
       "</table>\n",
       "</div>"
      ],
      "text/plain": [
       "   Marketing Spend  Administration  Transport     Area     Profit\n",
       "0        114523.61       136897.80  471784.10    Dhaka  192261.83\n",
       "1        162597.70       151377.59  443898.53      Ctg  191792.06\n",
       "2        153441.51       101145.55  407934.54  Rangpur  191050.39\n",
       "3        144372.41       118671.85  383199.62    Dhaka  182901.99\n",
       "4        142107.34        91391.77  366168.42  Rangpur  166187.94"
      ]
     },
     "execution_count": 2,
     "metadata": {},
     "output_type": "execute_result"
    }
   ],
   "source": [
    "df = pd.read_csv('supershop.csv')\n",
    "df.head()"
   ]
  },
  {
   "cell_type": "code",
   "execution_count": 3,
   "id": "dc0bddc0",
   "metadata": {},
   "outputs": [
    {
     "data": {
      "text/plain": [
       "(50, 5)"
      ]
     },
     "execution_count": 3,
     "metadata": {},
     "output_type": "execute_result"
    }
   ],
   "source": [
    "df.shape"
   ]
  },
  {
   "cell_type": "code",
   "execution_count": 4,
   "id": "5f6b2e97",
   "metadata": {},
   "outputs": [
    {
     "data": {
      "text/html": [
       "<div>\n",
       "<style scoped>\n",
       "    .dataframe tbody tr th:only-of-type {\n",
       "        vertical-align: middle;\n",
       "    }\n",
       "\n",
       "    .dataframe tbody tr th {\n",
       "        vertical-align: top;\n",
       "    }\n",
       "\n",
       "    .dataframe thead th {\n",
       "        text-align: right;\n",
       "    }\n",
       "</style>\n",
       "<table border=\"1\" class=\"dataframe\">\n",
       "  <thead>\n",
       "    <tr style=\"text-align: right;\">\n",
       "      <th></th>\n",
       "      <th>Marketing Spend</th>\n",
       "      <th>Administration</th>\n",
       "      <th>Transport</th>\n",
       "      <th>Profit</th>\n",
       "    </tr>\n",
       "  </thead>\n",
       "  <tbody>\n",
       "    <tr>\n",
       "      <th>count</th>\n",
       "      <td>50.000000</td>\n",
       "      <td>50.000000</td>\n",
       "      <td>49.000000</td>\n",
       "      <td>50.000000</td>\n",
       "    </tr>\n",
       "    <tr>\n",
       "      <th>mean</th>\n",
       "      <td>73721.615600</td>\n",
       "      <td>121344.639600</td>\n",
       "      <td>215331.732449</td>\n",
       "      <td>112012.639200</td>\n",
       "    </tr>\n",
       "    <tr>\n",
       "      <th>std</th>\n",
       "      <td>45902.256482</td>\n",
       "      <td>28017.802755</td>\n",
       "      <td>119665.391550</td>\n",
       "      <td>40306.180338</td>\n",
       "    </tr>\n",
       "    <tr>\n",
       "      <th>min</th>\n",
       "      <td>0.000000</td>\n",
       "      <td>51283.140000</td>\n",
       "      <td>0.000000</td>\n",
       "      <td>14681.400000</td>\n",
       "    </tr>\n",
       "    <tr>\n",
       "      <th>25%</th>\n",
       "      <td>39936.370000</td>\n",
       "      <td>103730.875000</td>\n",
       "      <td>134050.070000</td>\n",
       "      <td>90138.902500</td>\n",
       "    </tr>\n",
       "    <tr>\n",
       "      <th>50%</th>\n",
       "      <td>73051.080000</td>\n",
       "      <td>122699.795000</td>\n",
       "      <td>214634.810000</td>\n",
       "      <td>107978.190000</td>\n",
       "    </tr>\n",
       "    <tr>\n",
       "      <th>75%</th>\n",
       "      <td>101602.800000</td>\n",
       "      <td>144842.180000</td>\n",
       "      <td>299737.290000</td>\n",
       "      <td>139765.977500</td>\n",
       "    </tr>\n",
       "    <tr>\n",
       "      <th>max</th>\n",
       "      <td>165349.200000</td>\n",
       "      <td>182645.560000</td>\n",
       "      <td>471784.100000</td>\n",
       "      <td>192261.830000</td>\n",
       "    </tr>\n",
       "  </tbody>\n",
       "</table>\n",
       "</div>"
      ],
      "text/plain": [
       "       Marketing Spend  Administration      Transport         Profit\n",
       "count        50.000000       50.000000      49.000000      50.000000\n",
       "mean      73721.615600   121344.639600  215331.732449  112012.639200\n",
       "std       45902.256482    28017.802755  119665.391550   40306.180338\n",
       "min           0.000000    51283.140000       0.000000   14681.400000\n",
       "25%       39936.370000   103730.875000  134050.070000   90138.902500\n",
       "50%       73051.080000   122699.795000  214634.810000  107978.190000\n",
       "75%      101602.800000   144842.180000  299737.290000  139765.977500\n",
       "max      165349.200000   182645.560000  471784.100000  192261.830000"
      ]
     },
     "execution_count": 4,
     "metadata": {},
     "output_type": "execute_result"
    }
   ],
   "source": [
    "df.describe()"
   ]
  },
  {
   "cell_type": "code",
   "execution_count": 5,
   "id": "a1a46caf",
   "metadata": {},
   "outputs": [
    {
     "name": "stdout",
     "output_type": "stream",
     "text": [
      "<class 'pandas.core.frame.DataFrame'>\n",
      "RangeIndex: 50 entries, 0 to 49\n",
      "Data columns (total 5 columns):\n",
      " #   Column           Non-Null Count  Dtype  \n",
      "---  ------           --------------  -----  \n",
      " 0   Marketing Spend  50 non-null     float64\n",
      " 1   Administration   50 non-null     float64\n",
      " 2   Transport        49 non-null     float64\n",
      " 3   Area             50 non-null     object \n",
      " 4   Profit           50 non-null     float64\n",
      "dtypes: float64(4), object(1)\n",
      "memory usage: 2.1+ KB\n"
     ]
    }
   ],
   "source": [
    "df.info()"
   ]
  },
  {
   "cell_type": "code",
   "execution_count": 6,
   "id": "d6be77c3",
   "metadata": {},
   "outputs": [
    {
     "data": {
      "text/plain": [
       "Marketing Spend    0\n",
       "Administration     0\n",
       "Transport          1\n",
       "Area               0\n",
       "Profit             0\n",
       "dtype: int64"
      ]
     },
     "execution_count": 6,
     "metadata": {},
     "output_type": "execute_result"
    }
   ],
   "source": [
    "df.isnull().sum()"
   ]
  },
  {
   "cell_type": "code",
   "execution_count": 7,
   "id": "3ef10e47",
   "metadata": {},
   "outputs": [],
   "source": [
    "# drop the NaN values\n",
    "\n",
    "df.dropna(inplace=True) # by default dropped on raw basis"
   ]
  },
  {
   "cell_type": "code",
   "execution_count": 8,
   "id": "381d6cf5",
   "metadata": {},
   "outputs": [
    {
     "data": {
      "text/plain": [
       "Marketing Spend    0\n",
       "Administration     0\n",
       "Transport          0\n",
       "Area               0\n",
       "Profit             0\n",
       "dtype: int64"
      ]
     },
     "execution_count": 8,
     "metadata": {},
     "output_type": "execute_result"
    }
   ],
   "source": [
    "df.isnull().sum() "
   ]
  },
  {
   "cell_type": "code",
   "execution_count": 9,
   "id": "cd39ab5c",
   "metadata": {},
   "outputs": [
    {
     "data": {
      "text/plain": [
       "(49, 5)"
      ]
     },
     "execution_count": 9,
     "metadata": {},
     "output_type": "execute_result"
    }
   ],
   "source": [
    "df.shape"
   ]
  },
  {
   "cell_type": "code",
   "execution_count": null,
   "id": "770232f5",
   "metadata": {},
   "outputs": [],
   "source": []
  },
  {
   "cell_type": "markdown",
   "id": "6e5e56ff",
   "metadata": {},
   "source": [
    "# Encoding"
   ]
  },
  {
   "cell_type": "code",
   "execution_count": 10,
   "id": "05a35edb",
   "metadata": {},
   "outputs": [
    {
     "data": {
      "text/plain": [
       "Index(['Marketing Spend', 'Administration', 'Transport', 'Area', 'Profit'], dtype='object')"
      ]
     },
     "execution_count": 10,
     "metadata": {},
     "output_type": "execute_result"
    }
   ],
   "source": [
    "df.columns"
   ]
  },
  {
   "cell_type": "code",
   "execution_count": 11,
   "id": "a34310dd",
   "metadata": {},
   "outputs": [],
   "source": [
    "from sklearn.preprocessing import LabelEncoder\n",
    "le = LabelEncoder()"
   ]
  },
  {
   "cell_type": "code",
   "execution_count": 12,
   "id": "d69756af",
   "metadata": {},
   "outputs": [],
   "source": [
    "from pandas.core.dtypes.common import is_numeric_dtype\n",
    "for column in df.columns:\n",
    "    if is_numeric_dtype(df[column]):\n",
    "        continue\n",
    "    df[column] = le.fit_transform(df[column])"
   ]
  },
  {
   "cell_type": "code",
   "execution_count": 13,
   "id": "ae89a3c6",
   "metadata": {},
   "outputs": [
    {
     "data": {
      "text/html": [
       "<div>\n",
       "<style scoped>\n",
       "    .dataframe tbody tr th:only-of-type {\n",
       "        vertical-align: middle;\n",
       "    }\n",
       "\n",
       "    .dataframe tbody tr th {\n",
       "        vertical-align: top;\n",
       "    }\n",
       "\n",
       "    .dataframe thead th {\n",
       "        text-align: right;\n",
       "    }\n",
       "</style>\n",
       "<table border=\"1\" class=\"dataframe\">\n",
       "  <thead>\n",
       "    <tr style=\"text-align: right;\">\n",
       "      <th></th>\n",
       "      <th>Marketing Spend</th>\n",
       "      <th>Administration</th>\n",
       "      <th>Transport</th>\n",
       "      <th>Area</th>\n",
       "      <th>Profit</th>\n",
       "    </tr>\n",
       "  </thead>\n",
       "  <tbody>\n",
       "    <tr>\n",
       "      <th>0</th>\n",
       "      <td>114523.61</td>\n",
       "      <td>136897.80</td>\n",
       "      <td>471784.10</td>\n",
       "      <td>1</td>\n",
       "      <td>192261.83</td>\n",
       "    </tr>\n",
       "    <tr>\n",
       "      <th>1</th>\n",
       "      <td>162597.70</td>\n",
       "      <td>151377.59</td>\n",
       "      <td>443898.53</td>\n",
       "      <td>0</td>\n",
       "      <td>191792.06</td>\n",
       "    </tr>\n",
       "    <tr>\n",
       "      <th>2</th>\n",
       "      <td>153441.51</td>\n",
       "      <td>101145.55</td>\n",
       "      <td>407934.54</td>\n",
       "      <td>2</td>\n",
       "      <td>191050.39</td>\n",
       "    </tr>\n",
       "    <tr>\n",
       "      <th>3</th>\n",
       "      <td>144372.41</td>\n",
       "      <td>118671.85</td>\n",
       "      <td>383199.62</td>\n",
       "      <td>1</td>\n",
       "      <td>182901.99</td>\n",
       "    </tr>\n",
       "    <tr>\n",
       "      <th>4</th>\n",
       "      <td>142107.34</td>\n",
       "      <td>91391.77</td>\n",
       "      <td>366168.42</td>\n",
       "      <td>2</td>\n",
       "      <td>166187.94</td>\n",
       "    </tr>\n",
       "  </tbody>\n",
       "</table>\n",
       "</div>"
      ],
      "text/plain": [
       "   Marketing Spend  Administration  Transport  Area     Profit\n",
       "0        114523.61       136897.80  471784.10     1  192261.83\n",
       "1        162597.70       151377.59  443898.53     0  191792.06\n",
       "2        153441.51       101145.55  407934.54     2  191050.39\n",
       "3        144372.41       118671.85  383199.62     1  182901.99\n",
       "4        142107.34        91391.77  366168.42     2  166187.94"
      ]
     },
     "execution_count": 13,
     "metadata": {},
     "output_type": "execute_result"
    }
   ],
   "source": [
    "df.head()"
   ]
  },
  {
   "cell_type": "markdown",
   "id": "5cf56829",
   "metadata": {},
   "source": [
    "# Define x and y"
   ]
  },
  {
   "cell_type": "code",
   "execution_count": 18,
   "id": "ab0026c7",
   "metadata": {},
   "outputs": [],
   "source": [
    "x = df.drop(['Profit'], axis=1).values\n",
    "y = df['Profit'].values"
   ]
  },
  {
   "cell_type": "markdown",
   "id": "6ce956c3",
   "metadata": {},
   "source": [
    "# Split the dataset in training set and testing set"
   ]
  },
  {
   "cell_type": "code",
   "execution_count": 19,
   "id": "e28f4d89",
   "metadata": {},
   "outputs": [],
   "source": [
    "from sklearn.model_selection import train_test_split as tts\n",
    "xtrain, xtest, ytrain, ytest = tts(x,y,train_size=0.7,random_state=42)"
   ]
  },
  {
   "cell_type": "code",
   "execution_count": 20,
   "id": "5b4bb4fc",
   "metadata": {},
   "outputs": [
    {
     "name": "stdout",
     "output_type": "stream",
     "text": [
      "[[1.1452361e+05 1.3689780e+05 4.7178410e+05 1.0000000e+00]\n",
      " [1.6259770e+05 1.5137759e+05 4.4389853e+05 0.0000000e+00]\n",
      " [1.5344151e+05 1.0114555e+05 4.0793454e+05 2.0000000e+00]\n",
      " [1.4437241e+05 1.1867185e+05 3.8319962e+05 1.0000000e+00]\n",
      " [1.4210734e+05 9.1391770e+04 3.6616842e+05 2.0000000e+00]\n",
      " [1.3187690e+05 9.9814710e+04 3.6286136e+05 1.0000000e+00]\n",
      " [1.3461546e+05 1.4719887e+05 1.2771682e+05 0.0000000e+00]\n",
      " [1.3029813e+05 1.4553006e+05 3.2387668e+05 2.0000000e+00]\n",
      " [1.2054252e+05 1.4871895e+05 3.1161329e+05 1.0000000e+00]\n",
      " [1.2333488e+05 1.0867917e+05 3.0498162e+05 0.0000000e+00]\n",
      " [1.0191308e+05 1.1059411e+05 2.2916095e+05 2.0000000e+00]\n",
      " [1.0067196e+05 9.1790610e+04 2.4974455e+05 0.0000000e+00]\n",
      " [9.3863750e+04 1.2732038e+05 2.4983944e+05 2.0000000e+00]\n",
      " [9.1992390e+04 1.3549507e+05 2.5266493e+05 0.0000000e+00]\n",
      " [1.1994324e+05 1.5654742e+05 2.5651292e+05 2.0000000e+00]\n",
      " [1.6534920e+05 1.2261684e+05 2.6177623e+05 1.0000000e+00]\n",
      " [7.8013110e+04 1.2159755e+05 2.6434606e+05 0.0000000e+00]\n",
      " [9.4657160e+04 1.4507758e+05 2.8257431e+05 1.0000000e+00]\n",
      " [9.1749160e+04 1.1417579e+05 2.9491957e+05 2.0000000e+00]\n",
      " [7.6253860e+04 1.1386730e+05 2.9866447e+05 0.0000000e+00]\n",
      " [7.8389470e+04 1.5377343e+05 2.9973729e+05 1.0000000e+00]\n",
      " [7.3994560e+04 1.2278275e+05 3.0331926e+05 2.0000000e+00]\n",
      " [6.7532530e+04 1.0575103e+05 3.0476873e+05 2.0000000e+00]\n",
      " [7.7044010e+04 9.9281340e+04 1.4057481e+05 1.0000000e+00]\n",
      " [6.4664710e+04 1.3955316e+05 1.3796262e+05 0.0000000e+00]\n",
      " [7.5328870e+04 1.4413598e+05 1.3405007e+05 2.0000000e+00]\n",
      " [7.2107600e+04 1.2786455e+05 3.5318381e+05 1.0000000e+00]\n",
      " [6.6051520e+04 1.8264556e+05 1.1814820e+05 2.0000000e+00]\n",
      " [6.5605480e+04 1.5303206e+05 1.0713838e+05 1.0000000e+00]\n",
      " [6.1994480e+04 1.1564128e+05 9.1131240e+04 2.0000000e+00]\n",
      " [6.1136380e+04 1.5270192e+05 8.8218230e+04 1.0000000e+00]\n",
      " [6.3408860e+04 1.2921961e+05 4.6085250e+04 0.0000000e+00]\n",
      " [5.5493950e+04 1.0305749e+05 2.1463481e+05 2.0000000e+00]\n",
      " [4.6426070e+04 1.5769392e+05 2.1079767e+05 0.0000000e+00]\n",
      " [4.6014020e+04 8.5047440e+04 2.0551764e+05 1.0000000e+00]\n",
      " [2.8663760e+04 1.2705621e+05 2.0112682e+05 2.0000000e+00]\n",
      " [4.4069950e+04 5.1283140e+04 1.9702942e+05 0.0000000e+00]\n",
      " [2.0229590e+04 6.5947930e+04 1.8526510e+05 1.0000000e+00]\n",
      " [3.8558510e+04 8.2982090e+04 1.7499930e+05 0.0000000e+00]\n",
      " [2.8754330e+04 1.1854605e+05 1.7279567e+05 0.0000000e+00]\n",
      " [2.7892920e+04 8.4710770e+04 1.6447071e+05 2.0000000e+00]\n",
      " [2.3640930e+04 9.6189630e+04 1.4800111e+05 0.0000000e+00]\n",
      " [1.5505730e+04 1.2738230e+05 3.5534170e+04 1.0000000e+00]\n",
      " [2.2177740e+04 1.5480614e+05 2.8334720e+04 0.0000000e+00]\n",
      " [1.0002300e+03 1.2415304e+05 1.9039300e+03 1.0000000e+00]\n",
      " [1.3154600e+03 1.1581621e+05 2.9711446e+05 2.0000000e+00]\n",
      " [0.0000000e+00 1.3542692e+05 0.0000000e+00 0.0000000e+00]\n",
      " [5.4205000e+02 5.1743150e+04 0.0000000e+00 1.0000000e+00]\n",
      " [0.0000000e+00 1.1698380e+05 4.5173060e+04 0.0000000e+00]]\n"
     ]
    }
   ],
   "source": [
    "print(x)"
   ]
  },
  {
   "cell_type": "code",
   "execution_count": 21,
   "id": "cdb5246d",
   "metadata": {},
   "outputs": [
    {
     "name": "stdout",
     "output_type": "stream",
     "text": [
      "[192261.83 191792.06 191050.39 182901.99 166187.94 156991.12 156122.51\n",
      " 155752.6  152211.77 149759.96 146121.95 144259.4  141585.52 134307.35\n",
      " 132602.65 129917.04 126992.93 125370.37 124266.9  118474.03 111313.02\n",
      " 110352.25 108733.99 108552.04 107404.34 105733.54 105008.31 103282.38\n",
      " 101004.64  99937.59  97483.56  97427.84  96778.92  96712.8   96479.51\n",
      "  90708.19  89949.14  81229.06  81005.76  78239.91  77798.83  71498.49\n",
      "  69758.98  65200.33  64926.08  49490.75  42559.73  35673.41  14681.4 ]\n"
     ]
    }
   ],
   "source": [
    "print(y) "
   ]
  },
  {
   "cell_type": "markdown",
   "id": "6237e5df",
   "metadata": {},
   "source": [
    "# Train the model on the training set"
   ]
  },
  {
   "cell_type": "code",
   "execution_count": 22,
   "id": "1904b4e7",
   "metadata": {},
   "outputs": [],
   "source": [
    "from sklearn.linear_model import LinearRegression"
   ]
  },
  {
   "cell_type": "code",
   "execution_count": 23,
   "id": "d96ef325",
   "metadata": {},
   "outputs": [],
   "source": [
    "lr = LinearRegression()"
   ]
  },
  {
   "cell_type": "code",
   "execution_count": 24,
   "id": "e48a74af",
   "metadata": {},
   "outputs": [
    {
     "data": {
      "text/html": [
       "<style>#sk-container-id-1 {color: black;background-color: white;}#sk-container-id-1 pre{padding: 0;}#sk-container-id-1 div.sk-toggleable {background-color: white;}#sk-container-id-1 label.sk-toggleable__label {cursor: pointer;display: block;width: 100%;margin-bottom: 0;padding: 0.3em;box-sizing: border-box;text-align: center;}#sk-container-id-1 label.sk-toggleable__label-arrow:before {content: \"▸\";float: left;margin-right: 0.25em;color: #696969;}#sk-container-id-1 label.sk-toggleable__label-arrow:hover:before {color: black;}#sk-container-id-1 div.sk-estimator:hover label.sk-toggleable__label-arrow:before {color: black;}#sk-container-id-1 div.sk-toggleable__content {max-height: 0;max-width: 0;overflow: hidden;text-align: left;background-color: #f0f8ff;}#sk-container-id-1 div.sk-toggleable__content pre {margin: 0.2em;color: black;border-radius: 0.25em;background-color: #f0f8ff;}#sk-container-id-1 input.sk-toggleable__control:checked~div.sk-toggleable__content {max-height: 200px;max-width: 100%;overflow: auto;}#sk-container-id-1 input.sk-toggleable__control:checked~label.sk-toggleable__label-arrow:before {content: \"▾\";}#sk-container-id-1 div.sk-estimator input.sk-toggleable__control:checked~label.sk-toggleable__label {background-color: #d4ebff;}#sk-container-id-1 div.sk-label input.sk-toggleable__control:checked~label.sk-toggleable__label {background-color: #d4ebff;}#sk-container-id-1 input.sk-hidden--visually {border: 0;clip: rect(1px 1px 1px 1px);clip: rect(1px, 1px, 1px, 1px);height: 1px;margin: -1px;overflow: hidden;padding: 0;position: absolute;width: 1px;}#sk-container-id-1 div.sk-estimator {font-family: monospace;background-color: #f0f8ff;border: 1px dotted black;border-radius: 0.25em;box-sizing: border-box;margin-bottom: 0.5em;}#sk-container-id-1 div.sk-estimator:hover {background-color: #d4ebff;}#sk-container-id-1 div.sk-parallel-item::after {content: \"\";width: 100%;border-bottom: 1px solid gray;flex-grow: 1;}#sk-container-id-1 div.sk-label:hover label.sk-toggleable__label {background-color: #d4ebff;}#sk-container-id-1 div.sk-serial::before {content: \"\";position: absolute;border-left: 1px solid gray;box-sizing: border-box;top: 0;bottom: 0;left: 50%;z-index: 0;}#sk-container-id-1 div.sk-serial {display: flex;flex-direction: column;align-items: center;background-color: white;padding-right: 0.2em;padding-left: 0.2em;position: relative;}#sk-container-id-1 div.sk-item {position: relative;z-index: 1;}#sk-container-id-1 div.sk-parallel {display: flex;align-items: stretch;justify-content: center;background-color: white;position: relative;}#sk-container-id-1 div.sk-item::before, #sk-container-id-1 div.sk-parallel-item::before {content: \"\";position: absolute;border-left: 1px solid gray;box-sizing: border-box;top: 0;bottom: 0;left: 50%;z-index: -1;}#sk-container-id-1 div.sk-parallel-item {display: flex;flex-direction: column;z-index: 1;position: relative;background-color: white;}#sk-container-id-1 div.sk-parallel-item:first-child::after {align-self: flex-end;width: 50%;}#sk-container-id-1 div.sk-parallel-item:last-child::after {align-self: flex-start;width: 50%;}#sk-container-id-1 div.sk-parallel-item:only-child::after {width: 0;}#sk-container-id-1 div.sk-dashed-wrapped {border: 1px dashed gray;margin: 0 0.4em 0.5em 0.4em;box-sizing: border-box;padding-bottom: 0.4em;background-color: white;}#sk-container-id-1 div.sk-label label {font-family: monospace;font-weight: bold;display: inline-block;line-height: 1.2em;}#sk-container-id-1 div.sk-label-container {text-align: center;}#sk-container-id-1 div.sk-container {/* jupyter's `normalize.less` sets `[hidden] { display: none; }` but bootstrap.min.css set `[hidden] { display: none !important; }` so we also need the `!important` here to be able to override the default hidden behavior on the sphinx rendered scikit-learn.org. See: https://github.com/scikit-learn/scikit-learn/issues/21755 */display: inline-block !important;position: relative;}#sk-container-id-1 div.sk-text-repr-fallback {display: none;}</style><div id=\"sk-container-id-1\" class=\"sk-top-container\"><div class=\"sk-text-repr-fallback\"><pre>LinearRegression()</pre><b>In a Jupyter environment, please rerun this cell to show the HTML representation or trust the notebook. <br />On GitHub, the HTML representation is unable to render, please try loading this page with nbviewer.org.</b></div><div class=\"sk-container\" hidden><div class=\"sk-item\"><div class=\"sk-estimator sk-toggleable\"><input class=\"sk-toggleable__control sk-hidden--visually\" id=\"sk-estimator-id-1\" type=\"checkbox\" checked><label for=\"sk-estimator-id-1\" class=\"sk-toggleable__label sk-toggleable__label-arrow\">LinearRegression</label><div class=\"sk-toggleable__content\"><pre>LinearRegression()</pre></div></div></div></div></div>"
      ],
      "text/plain": [
       "LinearRegression()"
      ]
     },
     "execution_count": 24,
     "metadata": {},
     "output_type": "execute_result"
    }
   ],
   "source": [
    "lr.fit(xtrain, ytrain)"
   ]
  },
  {
   "cell_type": "markdown",
   "id": "03a7fc65",
   "metadata": {},
   "source": [
    "# Predict the test results"
   ]
  },
  {
   "cell_type": "code",
   "execution_count": 25,
   "id": "b0505bae",
   "metadata": {},
   "outputs": [
    {
     "name": "stdout",
     "output_type": "stream",
     "text": [
      "[128114.41501336  79061.69720621  40650.63862522  44167.18088736\n",
      " 133174.83964151  97860.20214316 127875.64548512 103550.69373795\n",
      "  86394.31962766 123619.41286819 127545.03651027 168043.55486011\n",
      "  93169.21343747 151841.83464713 173033.68073732]\n"
     ]
    }
   ],
   "source": [
    "pred_y = lr.predict(xtest)\n",
    "print(pred_y)"
   ]
  },
  {
   "cell_type": "code",
   "execution_count": 26,
   "id": "27a3b144",
   "metadata": {},
   "outputs": [
    {
     "data": {
      "text/plain": [
       "array([167142.67207188])"
      ]
     },
     "execution_count": 26,
     "metadata": {},
     "output_type": "execute_result"
    }
   ],
   "source": [
    "lr.predict([[114523.61, 136897.80, 471784.10, 1]]) # comparing to first y value"
   ]
  },
  {
   "cell_type": "markdown",
   "id": "32c1f27c",
   "metadata": {},
   "source": [
    "# Evaluate the model"
   ]
  },
  {
   "cell_type": "code",
   "execution_count": 27,
   "id": "bbdacfc9",
   "metadata": {},
   "outputs": [
    {
     "data": {
      "text/plain": [
       "89.70635060978623"
      ]
     },
     "execution_count": 27,
     "metadata": {},
     "output_type": "execute_result"
    }
   ],
   "source": [
    "from sklearn.metrics import r2_score\n",
    "r2_score(ytest, pred_y) *100"
   ]
  },
  {
   "cell_type": "code",
   "execution_count": null,
   "id": "69be7cd6",
   "metadata": {},
   "outputs": [],
   "source": []
  },
  {
   "cell_type": "markdown",
   "id": "9dfc9e64",
   "metadata": {},
   "source": [
    "# Plot the results"
   ]
  },
  {
   "cell_type": "code",
   "execution_count": 34,
   "id": "668f354f",
   "metadata": {},
   "outputs": [
    {
     "data": {
      "text/plain": [
       "Text(0.5, 1.0, 'Value Comparison')"
      ]
     },
     "execution_count": 34,
     "metadata": {},
     "output_type": "execute_result"
    },
    {
     "data": {
      "image/png": "[encoded data removed]",
      "text/plain": [
       "<Figure size 864x720 with 1 Axes>"
      ]
     },
     "metadata": {
      "needs_background": "light"
     },
     "output_type": "display_data"
    }
   ],
   "source": [
    "import matplotlib.pyplot as plt\n",
    "plt.figure(figsize=(12,10))\n",
    "plt.scatter(ytest, pred_y, marker='+')\n",
    "plt.xlabel('Actual Values')\n",
    "plt.ylabel('Predicted Values')\n",
    "plt.title('Value Comparison')"
   ]
  },
  {
   "cell_type": "markdown",
   "id": "1ad1ae9c",
   "metadata": {},
   "source": [
    "# Actual & Predict the values and their Differences"
   ]
  },
  {
   "cell_type": "code",
   "execution_count": 29,
   "id": "d3b601ea",
   "metadata": {},
   "outputs": [
    {
     "data": {
      "text/html": [
       "<div>\n",
       "<style scoped>\n",
       "    .dataframe tbody tr th:only-of-type {\n",
       "        vertical-align: middle;\n",
       "    }\n",
       "\n",
       "    .dataframe tbody tr th {\n",
       "        vertical-align: top;\n",
       "    }\n",
       "\n",
       "    .dataframe thead th {\n",
       "        text-align: right;\n",
       "    }\n",
       "</style>\n",
       "<table border=\"1\" class=\"dataframe\">\n",
       "  <thead>\n",
       "    <tr style=\"text-align: right;\">\n",
       "      <th></th>\n",
       "      <th>Actual Values</th>\n",
       "      <th>Predicted Values</th>\n",
       "      <th>Differences</th>\n",
       "    </tr>\n",
       "  </thead>\n",
       "  <tbody>\n",
       "    <tr>\n",
       "      <th>0</th>\n",
       "      <td>134307.35</td>\n",
       "      <td>128114.415013</td>\n",
       "      <td>6192.934987</td>\n",
       "    </tr>\n",
       "    <tr>\n",
       "      <th>1</th>\n",
       "      <td>49490.75</td>\n",
       "      <td>79061.697206</td>\n",
       "      <td>-29570.947206</td>\n",
       "    </tr>\n",
       "    <tr>\n",
       "      <th>2</th>\n",
       "      <td>35673.41</td>\n",
       "      <td>40650.638625</td>\n",
       "      <td>-4977.228625</td>\n",
       "    </tr>\n",
       "    <tr>\n",
       "      <th>3</th>\n",
       "      <td>64926.08</td>\n",
       "      <td>44167.180887</td>\n",
       "      <td>20758.899113</td>\n",
       "    </tr>\n",
       "    <tr>\n",
       "      <th>4</th>\n",
       "      <td>125370.37</td>\n",
       "      <td>133174.839642</td>\n",
       "      <td>-7804.469642</td>\n",
       "    </tr>\n",
       "    <tr>\n",
       "      <th>5</th>\n",
       "      <td>103282.38</td>\n",
       "      <td>97860.202143</td>\n",
       "      <td>5422.177857</td>\n",
       "    </tr>\n",
       "    <tr>\n",
       "      <th>6</th>\n",
       "      <td>105008.31</td>\n",
       "      <td>127875.645485</td>\n",
       "      <td>-22867.335485</td>\n",
       "    </tr>\n",
       "    <tr>\n",
       "      <th>7</th>\n",
       "      <td>105733.54</td>\n",
       "      <td>103550.693738</td>\n",
       "      <td>2182.846262</td>\n",
       "    </tr>\n",
       "    <tr>\n",
       "      <th>8</th>\n",
       "      <td>97427.84</td>\n",
       "      <td>86394.319628</td>\n",
       "      <td>11033.520372</td>\n",
       "    </tr>\n",
       "    <tr>\n",
       "      <th>9</th>\n",
       "      <td>118474.03</td>\n",
       "      <td>123619.412868</td>\n",
       "      <td>-5145.382868</td>\n",
       "    </tr>\n",
       "    <tr>\n",
       "      <th>10</th>\n",
       "      <td>141585.52</td>\n",
       "      <td>127545.036510</td>\n",
       "      <td>14040.483490</td>\n",
       "    </tr>\n",
       "    <tr>\n",
       "      <th>11</th>\n",
       "      <td>166187.94</td>\n",
       "      <td>168043.554860</td>\n",
       "      <td>-1855.614860</td>\n",
       "    </tr>\n",
       "    <tr>\n",
       "      <th>12</th>\n",
       "      <td>96479.51</td>\n",
       "      <td>93169.213437</td>\n",
       "      <td>3310.296563</td>\n",
       "    </tr>\n",
       "    <tr>\n",
       "      <th>13</th>\n",
       "      <td>152211.77</td>\n",
       "      <td>151841.834647</td>\n",
       "      <td>369.935353</td>\n",
       "    </tr>\n",
       "    <tr>\n",
       "      <th>14</th>\n",
       "      <td>182901.99</td>\n",
       "      <td>173033.680737</td>\n",
       "      <td>9868.309263</td>\n",
       "    </tr>\n",
       "  </tbody>\n",
       "</table>\n",
       "</div>"
      ],
      "text/plain": [
       "    Actual Values  Predicted Values   Differences\n",
       "0       134307.35     128114.415013   6192.934987\n",
       "1        49490.75      79061.697206 -29570.947206\n",
       "2        35673.41      40650.638625  -4977.228625\n",
       "3        64926.08      44167.180887  20758.899113\n",
       "4       125370.37     133174.839642  -7804.469642\n",
       "5       103282.38      97860.202143   5422.177857\n",
       "6       105008.31     127875.645485 -22867.335485\n",
       "7       105733.54     103550.693738   2182.846262\n",
       "8        97427.84      86394.319628  11033.520372\n",
       "9       118474.03     123619.412868  -5145.382868\n",
       "10      141585.52     127545.036510  14040.483490\n",
       "11      166187.94     168043.554860  -1855.614860\n",
       "12       96479.51      93169.213437   3310.296563\n",
       "13      152211.77     151841.834647    369.935353\n",
       "14      182901.99     173033.680737   9868.309263"
      ]
     },
     "execution_count": 29,
     "metadata": {},
     "output_type": "execute_result"
    }
   ],
   "source": [
    "df_pred_y = pd.DataFrame({'Actual Values': ytest, 'Predicted Values': pred_y, 'Differences': ytest - pred_y })\n",
    "df_pred_y[:30]"
   ]
  },
  {
   "cell_type": "code",
   "execution_count": 30,
   "id": "011fc679",
   "metadata": {},
   "outputs": [
    {
     "data": {
      "text/plain": [
       "38663.952720280286"
      ]
     },
     "execution_count": 30,
     "metadata": {},
     "output_type": "execute_result"
    }
   ],
   "source": [
    "lr.intercept_"
   ]
  },
  {
   "cell_type": "code",
   "execution_count": 31,
   "id": "fc345b10",
   "metadata": {},
   "outputs": [
    {
     "data": {
      "text/plain": [
       "array([ 5.80191202e-01,  4.17271375e-02,  1.20410322e-01, -4.86900268e+02])"
      ]
     },
     "execution_count": 31,
     "metadata": {},
     "output_type": "execute_result"
    }
   ],
   "source": [
    "lr.coef_"
   ]
  },
  {
   "cell_type": "code",
   "execution_count": 32,
   "id": "29a1cbf6",
   "metadata": {},
   "outputs": [
    {
     "data": {
      "text/plain": [
       "0.8974160194791266"
      ]
     },
     "execution_count": 32,
     "metadata": {},
     "output_type": "execute_result"
    }
   ],
   "source": [
    "lr.score(x,y)"
   ]
  },
  {
   "cell_type": "code",
   "execution_count": null,
   "id": "3599f373",
   "metadata": {},
   "outputs": [],
   "source": []
  }
 ],
 "metadata": {
  "kernelspec": {
   "display_name": "Python 3",
   "language": "python",
   "name": "python3"
  },
  "language_info": {
   "codemirror_mode": {
    "name": "ipython",
    "version": 3
   },
   "file_extension": ".py",
   "mimetype": "text/x-python",
   "name": "python",
   "nbconvert_exporter": "python",
   "pygments_lexer": "ipython3",
   "version": "3.8.8"
  }
 },
 "nbformat": 4,
 "nbformat_minor": 5
}
